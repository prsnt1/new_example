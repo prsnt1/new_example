{
 "cells": [
  {
   "cell_type": "code",
   "execution_count": 1,
   "id": "e1eb9af3-ca59-44a4-8433-7ae1498f5e98",
   "metadata": {},
   "outputs": [],
   "source": [
    "def square_func(n):\n",
    "    square = n **2\n",
    "    return square"
   ]
  },
  {
   "cell_type": "code",
   "execution_count": 2,
   "id": "dec1d246-1582-477c-87d2-09b3afcf42a6",
   "metadata": {},
   "outputs": [
    {
     "name": "stdout",
     "output_type": "stream",
     "text": [
      "9\n"
     ]
    }
   ],
   "source": [
    "print(square_func(3))"
   ]
  },
  {
   "cell_type": "code",
   "execution_count": null,
   "id": "2ccf3cf3-4a85-4fa6-a505-4f083cf68b80",
   "metadata": {},
   "outputs": [],
   "source": []
  }
 ],
 "metadata": {
  "kernelspec": {
   "display_name": "Python 3 (ipykernel)",
   "language": "python",
   "name": "python3"
  },
  "language_info": {
   "codemirror_mode": {
    "name": "ipython",
    "version": 3
   },
   "file_extension": ".py",
   "mimetype": "text/x-python",
   "name": "python",
   "nbconvert_exporter": "python",
   "pygments_lexer": "ipython3",
   "version": "3.11.7"
  }
 },
 "nbformat": 4,
 "nbformat_minor": 5
}
